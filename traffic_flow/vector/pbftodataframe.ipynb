{
 "cells": [
  {
   "cell_type": "code",
   "execution_count": 5,
   "metadata": {},
   "outputs": [],
   "source": [
    "from google.protobuf.json_format import MessageToDict\n",
    "import pandas as pd\n",
    "import math\n",
    "import geopandas as gpd\n",
    "from shapely.geometry import LineString, Point\n",
    "import tomtomtrafficflowTile_pb2\n",
    "import os\n",
    "import matplotlib.pyplot as plt\n",
    "import numpy as np\n",
    "from utils_TomTom import *\n",
    "\n",
    "# Valores globales\n",
    "zoom_level = 16\n",
    "tile = tomtomtrafficflowTile_pb2.Tile()\n",
    "tiles_largo = 3\n",
    "tiles_ancho = 3\n",
    "\n",
    "month = \"julio\"\n",
    "ruta_raiz = \"C:/Users/.../air_pollution_data/vectores/\"+month+\"/\"\n",
    "ruta_raiz = \"C:/Users/valer/Documents/CIC/doctorado/air_pollution_data/vectores/\"+month+\"/\"\n",
    "dataframes = []\n",
    "all_points = []\n",
    "# Itera sobre todas las carpetas y subcarpetas\n",
    "for carpeta_actual, carpetas, archivos in os.walk(ruta_raiz):\n",
    "    # Itera sobre todos los archivos en la carpeta actual\n",
    "    for nombre_archivo in archivos:\n",
    "        # Forma la ruta completa del archivo\n",
    "        ruta_archivo = os.path.join(carpeta_actual, nombre_archivo)\n",
    "        \n",
    "        # Verifica si el archivo tiene una extensión específica (por ejemplo, .xlsx)\n",
    "        if nombre_archivo.endswith('.pbf'):\n",
    "            # Lee el archivo y agrega el DataFrame a la lista\n",
    "            nombre = nombre_archivo.split(\"_\")\n",
    "            zoom_level = int(nombre[2])\n",
    "            xTile = int(nombre[3])\n",
    "            yTile = int(nombre[4])\n",
    "            fecha = nombre[7]+\"-\"+nombre[6]+\"-\"+nombre[5]\n",
    "            ultimo = nombre[10].split(\".\")\n",
    "            hora = nombre[8]+\":\"+nombre[9]+\":\"+ultimo[0]\n",
    "            estacion = nombre[0]\n",
    "            dataframe, points = conversion_vectorDATAFRAME(ruta_archivo, zoom_level, xTile, yTile, fecha, hora, estacion)\n",
    "\n",
    "            if len(dataframe)>0:\n",
    "                dataframes.append(dataframe)\n",
    "                all_points.append(points)\n",
    "# Combina todos los DataFrames en uno solo\n",
    "df_completo = pd.concat(dataframes, ignore_index=True)\n",
    "df_name = month+\".csv\"\n",
    "# Muestra el DataFrame completo\n",
    "df_completo.to_csv(df_name, index=False)\n"
   ]
  },
  {
   "cell_type": "code",
   "execution_count": null,
   "metadata": {},
   "outputs": [],
   "source": []
  }
 ],
 "metadata": {
  "kernelspec": {
   "display_name": "base",
   "language": "python",
   "name": "python3"
  },
  "language_info": {
   "codemirror_mode": {
    "name": "ipython",
    "version": 3
   },
   "file_extension": ".py",
   "mimetype": "text/x-python",
   "name": "python",
   "nbconvert_exporter": "python",
   "pygments_lexer": "ipython3",
   "version": "3.11.5"
  }
 },
 "nbformat": 4,
 "nbformat_minor": 2
}
