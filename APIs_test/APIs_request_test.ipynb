{
 "cells": [
  {
   "cell_type": "code",
   "execution_count": 1,
   "metadata": {},
   "outputs": [],
   "source": [
    "from utils import *"
   ]
  },
  {
   "cell_type": "code",
   "execution_count": 2,
   "metadata": {},
   "outputs": [
    {
     "name": "stdout",
     "output_type": "stream",
     "text": [
      "16 : 55\n",
      "{'flowSegmentData': {'frc': 'FRC7', 'currentSpeed': 17, 'freeFlowSpeed': 21, 'currentTravelTime': 280, 'freeFlowTravelTime': 226, 'confidence': 0.674441, 'roadClosure': True, 'coordinates': {'coordinate': [{'latitude': 19.42854614191799, 'longitude': -99.12851489128744}, {'latitude': 19.42842543843443, 'longitude': -99.12763512673034}, {'latitude': 19.428365126182154, 'longitude': -99.12722608985548}, {'latitude': 19.428315485150353, 'longitude': -99.12695116343139}, {'latitude': 19.42831817272252, 'longitude': -99.12639192285165}, {'latitude': 19.428322204080704, 'longitude': -99.12578708471865}, {'latitude': 19.428322204080704, 'longitude': -99.12574148716539}, {'latitude': 19.428324891652757, 'longitude': -99.12554970922078}, {'latitude': 19.428322204080704, 'longitude': -99.12540084662041}, {'latitude': 19.428314141364233, 'longitude': -99.12521040978032}, {'latitude': 19.42823635984378, 'longitude': -99.1246189826924}, {'latitude': 19.428194781495424, 'longitude': -99.1242756599384}, {'latitude': 19.428146484199043, 'longitude': -99.12387198748158}, {'latitude': 19.428095578358906, 'longitude': -99.12348709048784}, {'latitude': 19.42807139017455, 'longitude': -99.12326044382603}, {'latitude': 19.428049968609642, 'longitude': -99.12305257262733}, {'latitude': 19.428009734002192, 'longitude': -99.12273741306801}, {'latitude': 19.42797890590723, 'longitude': -99.12250942530169}, {'latitude': 19.42796681180686, 'longitude': -99.12239945473205}, {'latitude': 19.427890373909687, 'longitude': -99.12177986444946}, {'latitude': 19.427876936012993, 'longitude': -99.12168598713393}, {'latitude': 19.427874248433522, 'longitude': -99.12165782393926}, {'latitude': 19.427872904643777, 'longitude': -99.12164173068517}, {'latitude': 19.427868873274445, 'longitude': -99.12156796993725}, {'latitude': 19.42784610789283, 'longitude': -99.12140837850082}, {'latitude': 19.42783401378255, 'longitude': -99.12113479318124}, {'latitude': 19.427829982412238, 'longitude': -99.12087730111575}, {'latitude': 19.42783132620238, 'longitude': -99.12066138329}, {'latitude': 19.427835357572615, 'longitude': -99.12032476605854}, {'latitude': 19.4277978104928, 'longitude': -99.11995864452793}, {'latitude': 19.427773701310663, 'longitude': -99.11977625431487}, {'latitude': 19.427769669938865, 'longitude': -99.11974272670219}, {'latitude': 19.427761607194988, 'longitude': -99.1196770125813}, {'latitude': 19.427753544450717, 'longitude': -99.11962202729649}, {'latitude': 19.42774959212494, 'longitude': -99.1195898407883}, {'latitude': 19.427725403889134, 'longitude': -99.11939403953016}, {'latitude': 19.427694575740198, 'longitude': -99.11917007507736}, {'latitude': 19.427530949313393, 'longitude': -99.11792821230318}, {'latitude': 19.42750415250606, 'longitude': -99.11772972883604}, {'latitude': 19.427443760865028, 'longitude': -99.11718524040589}, {'latitude': 19.42736060375193, 'longitude': -99.11671719493268}, {'latitude': 19.42730163489878, 'longitude': -99.11630949916231}, {'latitude': 19.42727879039092, 'longitude': -99.11615795435294}, {'latitude': 19.427247962157274, 'longitude': -99.11598897518496}]}, '@version': 'traffic-service-flow 1.0.115'}}\n",
      "{'status': 'success', 'data': {'city': 'Mexico City', 'state': 'Mexico City', 'country': 'Mexico', 'location': {'type': 'Point', 'coordinates': [-99.12766, 19.42847]}, 'current': {'pollution': {'ts': '2024-07-30T22:00:00.000Z', 'aqius': 68, 'mainus': 'p2', 'aqicn': 26, 'maincn': 'p2'}, 'weather': {'ts': '2024-07-30T22:00:00.000Z', 'tp': 14, 'pr': 1013, 'hu': 94, 'ws': 1.54, 'wd': 170, 'ic': '11d'}}}}\n",
      "Error al realizar la solicitud en la estación MER. Código de estado: 401\n",
      "Error al realizar la solicitud en la estación MER. Código de estado: 401\n",
      "Error al realizar la solicitud en la estación MER. Código de estado: 401\n",
      "MER successful request\n"
     ]
    }
   ],
   "source": [
    "stations2forecast = ['MER']\n",
    "hora_actual = datetime.now()\n",
    "hora = str(hora_actual.hour)\n",
    "minuto = str(hora_actual.minute)\n",
    "print(hora,\":\", minuto)\n",
    "try:\n",
    "    nearest_street_request(stations2forecast, printData=True)\n",
    "except:\n",
    "    print(\"No se descargaron datos a las: \", hora,\":\", minuto)\n",
    "\n"
   ]
  },
  {
   "cell_type": "code",
   "execution_count": null,
   "metadata": {},
   "outputs": [],
   "source": [
    "#/predict\n",
    "\n",
    "#Consultar en la base de datos si ya está el registro de esa hora\n",
    "\n",
    "stations2forecast = ['MER']\n",
    "hora_actual = datetime.now()\n",
    "hora = str(hora_actual.hour)\n",
    "minuto = str(hora_actual.minute)\n",
    "print(hora,\":\", minuto)\n",
    "\n"
   ]
  },
  {
   "cell_type": "code",
   "execution_count": 3,
   "metadata": {},
   "outputs": [
    {
     "data": {
      "text/plain": [
       "{'pollution': {'ts': '2024-07-30T19:00:00.000Z',\n",
       "  'aqius': 80,\n",
       "  'mainus': 'p2',\n",
       "  'aqicn': 36,\n",
       "  'maincn': 'p2'}}"
      ]
     },
     "execution_count": 3,
     "metadata": {},
     "output_type": "execute_result"
    }
   ],
   "source": [
    "a = {'pollution': {'ts': '2024-07-30T19:00:00.000Z', 'aqius': 80, 'mainus': 'p2', 'aqicn': 36, 'maincn': 'p2'}}\n",
    "a"
   ]
  },
  {
   "cell_type": "code",
   "execution_count": null,
   "metadata": {},
   "outputs": [],
   "source": []
  }
 ],
 "metadata": {
  "kernelspec": {
   "display_name": "base",
   "language": "python",
   "name": "python3"
  },
  "language_info": {
   "codemirror_mode": {
    "name": "ipython",
    "version": 3
   },
   "file_extension": ".py",
   "mimetype": "text/x-python",
   "name": "python",
   "nbconvert_exporter": "python",
   "pygments_lexer": "ipython3",
   "version": "3.11.5"
  }
 },
 "nbformat": 4,
 "nbformat_minor": 2
}
