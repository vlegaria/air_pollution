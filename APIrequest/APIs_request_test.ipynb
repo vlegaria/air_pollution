{
 "cells": [
  {
   "cell_type": "code",
   "execution_count": 1,
   "metadata": {},
   "outputs": [],
   "source": [
    "from utils import *"
   ]
  },
  {
   "cell_type": "code",
   "execution_count": 2,
   "metadata": {},
   "outputs": [
    {
     "name": "stdout",
     "output_type": "stream",
     "text": [
      "17 : 26\n",
      "{'flowSegmentData': {'frc': 'FRC2', 'currentSpeed': 34, 'freeFlowSpeed': 44, 'currentTravelTime': 117, 'freeFlowTravelTime': 90, 'confidence': 1, 'roadClosure': False, 'coordinates': {'coordinate': [{'latitude': 19.422273789561206, 'longitude': -99.12032878937207}, {'latitude': 19.422386513653557, 'longitude': -99.12031537832699}, {'latitude': 19.422634569620698, 'longitude': -99.12028855623684}, {'latitude': 19.422807607800607, 'longitude': -99.12026709856472}, {'latitude': 19.42310799342223, 'longitude': -99.1202295476385}, {'latitude': 19.423211231089205, 'longitude': -99.12021747769792}, {'latitude': 19.42340703466185, 'longitude': -99.12019333781679}, {'latitude': 19.423578728193885, 'longitude': -99.12017188014467}, {'latitude': 19.42369943527836, 'longitude': -99.12015042247255}, {'latitude': 19.423853658803335, 'longitude': -99.12012360038239}, {'latitude': 19.42391666037543, 'longitude': -99.12011287154633}, {'latitude': 19.423975709505513, 'longitude': -99.12010214271027}, {'latitude': 19.42414866720898, 'longitude': -99.12007263841109}, {'latitude': 19.424477270528623, 'longitude': -99.12001631202176}, {'latitude': 19.424595289311856, 'longitude': -99.11999619545415}, {'latitude': 19.42469986984988, 'longitude': -99.11997876109555}, {'latitude': 19.424788403586067, 'longitude': -99.11996266784146}, {'latitude': 19.42501637773472, 'longitude': -99.11992511691524}, {'latitude': 19.425216210567303, 'longitude': -99.11989158930254}, {'latitude': 19.42534766692078, 'longitude': -99.11987013163042}, {'latitude': 19.42548979459645, 'longitude': -99.1198473328538}, {'latitude': 19.426462077363436, 'longitude': -99.1196944469399}, {'latitude': 19.426592188908547, 'longitude': -99.11966360153623}, {'latitude': 19.426609579265126, 'longitude': -99.1196595782227}, {'latitude': 19.42695027178443, 'longitude': -99.11957911195223}, {'latitude': 19.427325744150952, 'longitude': -99.11949059905473}, {'latitude': 19.427607387379656, 'longitude': -99.11941952051582}, {'latitude': 19.427725403889134, 'longitude': -99.11939403953016}, {'latitude': 19.42782468629819, 'longitude': -99.11937392296255}, {'latitude': 19.42803518693774, 'longitude': -99.11933637203633}, {'latitude': 19.42807273396267, 'longitude': -99.11932966651379}, {'latitude': 19.42818007888294, 'longitude': -99.1193122321552}, {'latitude': 19.428197469069588, 'longitude': -99.11930954994618}, {'latitude': 19.428583688824833, 'longitude': -99.11925322355685}, {'latitude': 19.428751345538792, 'longitude': -99.1192290836757}, {'latitude': 19.428994095712348, 'longitude': -99.119192873854}, {'latitude': 19.429460782099504, 'longitude': -99.11912447752411}, {'latitude': 19.43176613310536, 'longitude': -99.118931358475}, {'latitude': 19.431890865375983, 'longitude': -99.11892062963892}, {'latitude': 19.432045081124418, 'longitude': -99.11891258301188}, {'latitude': 19.43211487733761, 'longitude': -99.1189166063254}]}, '@version': 'traffic-service-flow 1.0.115'}}\n",
      "{'coord': {'lon': -99.1196, 'lat': 19.4246}, 'list': [{'main': {'aqi': 1}, 'components': {'co': 574.11, 'no': 2.99, 'no2': 37.7, 'o3': 24.32, 'so2': 17.64, 'pm2_5': 7.11, 'pm10': 9.42, 'nh3': 1.9}, 'dt': 1722381688}]}\n",
      "{'coord': {'lon': -99.1196, 'lat': 19.4246}, 'weather': [{'id': 211, 'main': 'Thunderstorm', 'description': 'thunderstorm', 'icon': '11d'}, {'id': 500, 'main': 'Rain', 'description': 'light rain', 'icon': '10d'}], 'base': 'stations', 'main': {'temp': 290.12, 'feels_like': 290.17, 'temp_min': 290.12, 'temp_max': 290.12, 'pressure': 1013, 'humidity': 88, 'sea_level': 1013, 'grnd_level': 763}, 'visibility': 10000, 'wind': {'speed': 5.14, 'deg': 340}, 'rain': {'1h': 0.97}, 'clouds': {'all': 100}, 'dt': 1722381689, 'sys': {'type': 1, 'id': 7146, 'country': 'MX', 'sunrise': 1722341533, 'sunset': 1722388403}, 'timezone': -21600, 'id': 3530597, 'name': 'Mexico City', 'cod': 200}\n",
      "MER successful request\n",
      "{'flowSegmentData': {'frc': 'FRC5', 'currentSpeed': 18, 'freeFlowSpeed': 23, 'currentTravelTime': 392, 'freeFlowTravelTime': 306, 'confidence': 0.976754, 'roadClosure': False, 'coordinates': {'coordinate': [{'latitude': 19.356417554541704, 'longitude': -99.07213753999028}, {'latitude': 19.356581173389614, 'longitude': -99.07234272897996}, {'latitude': 19.35660932625357, 'longitude': -99.07237089217463}, {'latitude': 19.356801097740064, 'longitude': -99.0725546234922}, {'latitude': 19.356818574635398, 'longitude': -99.07257071674628}, {'latitude': 19.356823873060325, 'longitude': -99.07257608116431}, {'latitude': 19.356869502772366, 'longitude': -99.07261631429955}, {'latitude': 19.35715783164539, 'longitude': -99.07286441863349}, {'latitude': 19.357270521754803, 'longitude': -99.07297841251665}, {'latitude': 19.357816336186318, 'longitude': -99.07349876106565}, {'latitude': 19.358037603237566, 'longitude': -99.0736462825615}, {'latitude': 19.3581328159864, 'longitude': -99.07370663226436}, {'latitude': 19.35841307644602, 'longitude': -99.07385951817824}, {'latitude': 19.35893745639041, 'longitude': -99.0741465145429}, {'latitude': 19.359134602568897, 'longitude': -99.07420820535026}, {'latitude': 19.359443092761314, 'longitude': -99.07430878818835}, {'latitude': 19.35953830468958, 'longitude': -99.07432622254694}, {'latitude': 19.359738138846517, 'longitude': -99.07436243236864}, {'latitude': 19.35976897986987, 'longitude': -99.07436511457766}, {'latitude': 19.36045428172041, 'longitude': -99.07441875875797}, {'latitude': 19.36063663827048, 'longitude': -99.07443351090757}, {'latitude': 19.36083647108141, 'longitude': -99.07444558084813}, {'latitude': 19.3608954640211, 'longitude': -99.07444826305715}, {'latitude': 19.361008151547715, 'longitude': -99.07445496857969}, {'latitude': 19.361072521791083, 'longitude': -99.07445899189321}, {'latitude': 19.361182520514244, 'longitude': -99.07446569741575}, {'latitude': 19.36128042010625, 'longitude': -99.07447106183378}, {'latitude': 19.361942861923765, 'longitude': -99.07448715508787}, {'latitude': 19.362192354354153, 'longitude': -99.07448983729688}, {'latitude': 19.362368066385102, 'longitude': -99.07449922502843}, {'latitude': 19.36245521062539, 'longitude': -99.0744402164301}, {'latitude': 19.36250479267236, 'longitude': -99.07443485201208}, {'latitude': 19.362553109453227, 'longitude': -99.07443753422109}, {'latitude': 19.362622856401334, 'longitude': -99.0744388753256}, {'latitude': 19.363127057941465, 'longitude': -99.07446301520673}, {'latitude': 19.36400015481889, 'longitude': -99.07450324834195}, {'latitude': 19.364053769346572, 'longitude': -99.07450056613294}, {'latitude': 19.364111495883243, 'longitude': -99.07450324834195}, {'latitude': 19.36424023389416, 'longitude': -99.07450861275998}, {'latitude': 19.365728858607408, 'longitude': -99.07457030356736}, {'latitude': 19.366046667349714, 'longitude': -99.07459310234398}, {'latitude': 19.36611641280315, 'longitude': -99.07459846676201}, {'latitude': 19.366167338036032, 'longitude': -99.07460114897104}, {'latitude': 19.366242460633135, 'longitude': -99.07460651338907}, {'latitude': 19.36648791359331, 'longitude': -99.07462394774767}, {'latitude': 19.36695730971981, 'longitude': -99.07463869989725}, {'latitude': 19.367020333321868, 'longitude': -99.07464004100176}, {'latitude': 19.367035041461392, 'longitude': -99.07464004100176}, {'latitude': 19.36709007835874, 'longitude': -99.07464272321077}, {'latitude': 19.367226879761578, 'longitude': -99.07464540541979}, {'latitude': 19.367945678309727, 'longitude': -99.07466015756937}, {'latitude': 19.368231299030988, 'longitude': -99.07467356861444}, {'latitude': 19.368314486367296, 'longitude': -99.07467490971895}, {'latitude': 19.36845666386474, 'longitude': -99.07467759192797}, {'latitude': 19.3685022112459, 'longitude': -99.07467222750994}, {'latitude': 19.368597496958785, 'longitude': -99.07466283977838}, {'latitude': 19.368755726471758, 'longitude': -99.07464540541979}, {'latitude': 19.36882412648856, 'longitude': -99.07464540541979}, {'latitude': 19.368881772260742, 'longitude': -99.07465345204683}, {'latitude': 19.368999752296105, 'longitude': -99.07468832076404}, {'latitude': 19.36905478853004, 'longitude': -99.07470173180911}, {'latitude': 19.36913251927132, 'longitude': -99.07470441401813}, {'latitude': 19.369323010829433, 'longitude': -99.0747164839587}, {'latitude': 19.370205405308567, 'longitude': -99.07474867046689}, {'latitude': 19.37063058821747, 'longitude': -99.07477146924352}, {'latitude': 19.370834441560167, 'longitude': -99.07477951587056}, {'latitude': 19.370918892753895, 'longitude': -99.07478353918408}, {'latitude': 19.371934122358628, 'longitude': -99.0748210901103}, {'latitude': 19.372121843067855, 'longitude': -99.07482779563284}, {'latitude': 19.372654323464857, 'longitude': -99.07484925330496}, {'latitude': 19.37284204334439, 'longitude': -99.07485864103653}, {'latitude': 19.37296539748619, 'longitude': -99.07486668766357}, {'latitude': 19.373028497837968, 'longitude': -99.07486936987259}, {'latitude': 19.373049926648612, 'longitude': -99.0748707109771}, {'latitude': 19.373082109395867, 'longitude': -99.0748720520816}, {'latitude': 19.37309420757685, 'longitude': -99.07491764963487}, {'latitude': 19.37311025941034, 'longitude': -99.0749779993377}, {'latitude': 19.373121013347188, 'longitude': -99.07502091468196}, {'latitude': 19.37314916335493, 'longitude': -99.07512820304258}]}, '@version': 'traffic-service-flow 1.0.115'}}\n",
      "{'coord': {'lon': -99.0739, 'lat': 19.3608}, 'list': [{'main': {'aqi': 2}, 'components': {'co': 1028.06, 'no': 1.06, 'no2': 46.61, 'o3': 36.48, 'so2': 37.67, 'pm2_5': 17.48, 'pm10': 19.68, 'nh3': 1.19}, 'dt': 1722381958}]}\n",
      "{'coord': {'lon': -99.0739, 'lat': 19.3608}, 'weather': [{'id': 211, 'main': 'Thunderstorm', 'description': 'thunderstorm', 'icon': '11d'}, {'id': 501, 'main': 'Rain', 'description': 'moderate rain', 'icon': '10d'}], 'base': 'stations', 'main': {'temp': 290.13, 'feels_like': 290.18, 'temp_min': 290.13, 'temp_max': 290.13, 'pressure': 1013, 'humidity': 88, 'sea_level': 1013, 'grnd_level': 763}, 'visibility': 10000, 'wind': {'speed': 5.14, 'deg': 340}, 'rain': {'1h': 1.09}, 'clouds': {'all': 100}, 'dt': 1722381958, 'sys': {'type': 1, 'id': 7146, 'country': 'MX', 'sunrise': 1722341528, 'sunset': 1722388386}, 'timezone': -21600, 'id': 3526683, 'name': 'Iztapalapa', 'cod': 200}\n",
      "UIZ successful request\n",
      "{'flowSegmentData': {'frc': 'FRC6', 'currentSpeed': 29, 'freeFlowSpeed': 29, 'currentTravelTime': 274, 'freeFlowTravelTime': 274, 'confidence': 1, 'roadClosure': False, 'coordinates': {'coordinate': [{'latitude': 19.330280797151346, 'longitude': -99.20009634438905}, {'latitude': 19.330188257344428, 'longitude': -99.20026800576603}, {'latitude': 19.330105050567333, 'longitude': -99.20043832603852}, {'latitude': 19.32999510998886, 'longitude': -99.20062742177412}, {'latitude': 19.32994947276291, 'longitude': -99.20068643037246}, {'latitude': 19.32984087667847, 'longitude': -99.20078969541956}, {'latitude': 19.329779183313555, 'longitude': -99.20083663407732}, {'latitude': 19.329657141114048, 'longitude': -99.20090503040723}, {'latitude': 19.32958738007505, 'longitude': -99.20093453470639}, {'latitude': 19.328195316832144, 'longitude': -99.2011611813682}, {'latitude': 19.328089408807756, 'longitude': -99.20120812002598}, {'latitude': 19.32803578246305, 'longitude': -99.20124164763867}, {'latitude': 19.32796064227487, 'longitude': -99.2013167494911}, {'latitude': 19.327932484469134, 'longitude': -99.20135295931281}, {'latitude': 19.327884236532366, 'longitude': -99.20146024767344}, {'latitude': 19.327822542428404, 'longitude': -99.20170030538033}, {'latitude': 19.32766292860015, 'longitude': -99.20250094477146}, {'latitude': 19.32759854517833, 'longitude': -99.2026283496997}, {'latitude': 19.3275623196055, 'longitude': -99.20268467608902}, {'latitude': 19.32751541617721, 'longitude': -99.20273832026932}, {'latitude': 19.32742153018503, 'longitude': -99.20282549206233}, {'latitude': 19.326995048233805, 'longitude': -99.203112488427}, {'latitude': 19.326918642039626, 'longitude': -99.20316210929377}, {'latitude': 19.326729524691043, 'longitude': -99.2032854909085}, {'latitude': 19.326209154244324, 'longitude': -99.20366904679771}, {'latitude': 19.325951697208872, 'longitude': -99.20384741369725}, {'latitude': 19.325141673825208, 'longitude': -99.20438787881388}, {'latitude': 19.32496995562877, 'longitude': -99.20450321380153}, {'latitude': 19.324834542534095, 'longitude': -99.20459306780356}, {'latitude': 19.324751412126556, 'longitude': -99.20464939419288}, {'latitude': 19.32457834887791, 'longitude': -99.20476741138957}, {'latitude': 19.32448849512628, 'longitude': -99.20482910219692}, {'latitude': 19.323923902376464, 'longitude': -99.20521399919065}, {'latitude': 19.32368384308602, 'longitude': -99.20538029614961}, {'latitude': 19.323262729989438, 'longitude': -99.2056713158278}, {'latitude': 19.322551960757256, 'longitude': -99.2061903232723}, {'latitude': 19.322392420877524, 'longitude': -99.20631504599152}, {'latitude': 19.322270373159864, 'longitude': -99.206398194471}, {'latitude': 19.322179173477245, 'longitude': -99.20646256748738}, {'latitude': 19.321948445171717, 'longitude': -99.20661813561027}, {'latitude': 19.32180496158397, 'longitude': -99.20671737734385}, {'latitude': 19.32170711741136, 'longitude': -99.20677504483768}, {'latitude': 19.321582379848522, 'longitude': -99.20684880558561}, {'latitude': 19.321493869116814, 'longitude': -99.20689440313888}, {'latitude': 19.32138653298194, 'longitude': -99.20694268290114}, {'latitude': 19.321208166588637, 'longitude': -99.20700571481302}, {'latitude': 19.320785702438815, 'longitude': -99.20711970869617}, {'latitude': 19.320685168307783, 'longitude': -99.20714787189084}, {'latitude': 19.320521513480752, 'longitude': -99.20721626822073}, {'latitude': 19.32047057400378, 'longitude': -99.20724309031088}, {'latitude': 19.32038878605259, 'longitude': -99.20728734675964}, {'latitude': 19.32031633170189, 'longitude': -99.20734233204446}, {'latitude': 19.32011652838057, 'longitude': -99.20751399342146}, {'latitude': 19.320056176022874, 'longitude': -99.20758775416938}, {'latitude': 19.31960823902018, 'longitude': -99.20822343770605}, {'latitude': 19.31915357735649, 'longitude': -99.20867270771616}, {'latitude': 19.3191066715144, 'longitude': -99.2087142819559}, {'latitude': 19.3185930002482, 'longitude': -99.20917964522009}, {'latitude': 19.31781252373916, 'longitude': -99.20988640729568}, {'latitude': 19.317686438505, 'longitude': -99.21000174228335}, {'latitude': 19.31739542961645, 'longitude': -99.21020290795951}, {'latitude': 19.317104420209777, 'longitude': -99.21040407363567}, {'latitude': 19.31706550290272, 'longitude': -99.21042821351682}, {'latitude': 19.3170091835314, 'longitude': -99.21044967118894}, {'latitude': 19.316538457240746, 'longitude': -99.21053818408645}, {'latitude': 19.316420439278964, 'longitude': -99.21058914605774}, {'latitude': 19.316172379800033, 'longitude': -99.21077153627081}, {'latitude': 19.31597383702496, 'longitude': -99.21093783322976}, {'latitude': 19.31590944899753, 'longitude': -99.21100220624614}, {'latitude': 19.315838416475913, 'longitude': -99.21110413018873}, {'latitude': 19.31575259206283, 'longitude': -99.21125969831162}, {'latitude': 19.31551386548609, 'longitude': -99.21186587754913}, {'latitude': 19.315304643265875, 'longitude': -99.21249485556328}]}, '@version': 'traffic-service-flow 1.0.115'}}\n",
      "{'coord': {'lon': -99.2041, 'lat': 19.3251}, 'list': [{'main': {'aqi': 1}, 'components': {'co': 560.76, 'no': 0.89, 'no2': 22.28, 'o3': 36.12, 'so2': 14.07, 'pm2_5': 8.51, 'pm10': 10.99, 'nh3': 0.74}, 'dt': 1722381959}]}\n",
      "{'coord': {'lon': -99.2041, 'lat': 19.3251}, 'weather': [{'id': 211, 'main': 'Thunderstorm', 'description': 'thunderstorm', 'icon': '11d'}, {'id': 501, 'main': 'Rain', 'description': 'moderate rain', 'icon': '10d'}], 'base': 'stations', 'main': {'temp': 289.42, 'feels_like': 289.4, 'temp_min': 289.42, 'temp_max': 289.42, 'pressure': 1015, 'humidity': 88, 'sea_level': 1015, 'grnd_level': 733}, 'visibility': 10000, 'wind': {'speed': 5.14, 'deg': 340}, 'rain': {'1h': 1.23}, 'clouds': {'all': 100}, 'dt': 1722381959, 'sys': {'type': 1, 'id': 7146, 'country': 'MX', 'sunrise': 1722341562, 'sunset': 1722388414}, 'timezone': -21600, 'id': 3530583, 'name': 'Ciudad Universitaria', 'cod': 200}\n",
      "PED successful request\n"
     ]
    }
   ],
   "source": [
    "stations2forecast = ['MER', 'UIZ', 'PED']\n",
    "hora_actual = datetime.now()\n",
    "hora = str(hora_actual.hour)\n",
    "minuto = str(hora_actual.minute)\n",
    "print(hora,\":\", minuto)\n",
    "try:\n",
    "    nearest_street_request(stations2forecast, printData=True)\n",
    "except Exception as e:\n",
    "    print(\"No se descargaron datos a las: \", hora,\":\", minuto, e)\n",
    "\n"
   ]
  },
  {
   "cell_type": "code",
   "execution_count": null,
   "metadata": {},
   "outputs": [],
   "source": [
    "#/predict\n",
    "\n",
    "#Consultar en la base de datos si ya está el registro de esa hora\n",
    "\n",
    "stations2forecast = ['MER']\n",
    "hora_actual = datetime.now()\n",
    "hora = str(hora_actual.hour)\n",
    "minuto = str(hora_actual.minute)\n",
    "print(hora,\":\", minuto)\n",
    "\n"
   ]
  },
  {
   "cell_type": "code",
   "execution_count": 8,
   "metadata": {},
   "outputs": [],
   "source": [
    "station = 'MER'\n",
    "df_stations = pd.read_csv('estacionesCAMEcsv.csv')\n",
    "lat= df_stations.loc[df_stations['Key'] == station, 'Latitude'].values[0]\n",
    "lon= df_stations.loc[df_stations['Key'] == station, 'Longitude'].values[0]"
   ]
  }
 ],
 "metadata": {
  "kernelspec": {
   "display_name": "base",
   "language": "python",
   "name": "python3"
  },
  "language_info": {
   "codemirror_mode": {
    "name": "ipython",
    "version": 3
   },
   "file_extension": ".py",
   "mimetype": "text/x-python",
   "name": "python",
   "nbconvert_exporter": "python",
   "pygments_lexer": "ipython3",
   "version": "3.11.5"
  }
 },
 "nbformat": 4,
 "nbformat_minor": 2
}
