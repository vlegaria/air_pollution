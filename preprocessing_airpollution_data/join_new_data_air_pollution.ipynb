{
 "cells": [
  {
   "cell_type": "markdown",
   "metadata": {},
   "source": [
    "Unir nuevos datos de contaminación/meteorológicos"
   ]
  },
  {
   "cell_type": "code",
   "execution_count": null,
   "metadata": {},
   "outputs": [],
   "source": [
    "import pandas as pd\n",
    "import os\n",
    "import shutil"
   ]
  },
  {
   "cell_type": "code",
   "execution_count": null,
   "metadata": {},
   "outputs": [],
   "source": [
    "nuevo_nombre_carpeta = 'all_data_2005xstation_15_05_2024'  "
   ]
  },
  {
   "cell_type": "markdown",
   "metadata": {},
   "source": [
    "Primero unimos los nuevos datos a los datos ya guardados en su respectiva estación"
   ]
  },
  {
   "cell_type": "code",
   "execution_count": null,
   "metadata": {},
   "outputs": [],
   "source": [
    "# Tener cuidado, descomentar y comentar para ejecutar SOLO 1 vez\n",
    "\"\"\"\n",
    "dir = \"all_data_2005xstation_31_03_2024\"\n",
    "dirNewData = \"datos_por_estacion\"\n",
    "filesPREV = os.listdir(dir)\n",
    "filesNEW = os.listdir(dirNewData)\n",
    "for file_name in filesPREV:\n",
    "  for file_nameNEW in filesNEW:\n",
    "    if file_name == file_nameNEW:\n",
    "      print(file_name, file_nameNEW)\n",
    "      file_pathPREV = os.path.join(dir,file_name)\n",
    "      datasetPREV = pd.read_csv(file_pathPREV)\n",
    "      file_pathNEWdata = os.path.join(dirNewData,file_name)\n",
    "      datasetNEWdata = pd.read_csv(file_pathNEWdata)\n",
    "      new_df = pd.concat([datasetPREV, datasetNEWdata])\n",
    "      new_df.to_csv(file_pathPREV, index=False)\n",
    "      print(len(datasetPREV), len(datasetNEWdata), len(new_df))\n",
    "\"\"\""
   ]
  },
  {
   "cell_type": "markdown",
   "metadata": {},
   "source": [
    "Se renombra la carpeta con la fecha de los últimos datos"
   ]
  },
  {
   "cell_type": "code",
   "execution_count": null,
   "metadata": {},
   "outputs": [],
   "source": [
    "# Renombrar la carpeta\n",
    "os.rename(dir, nuevo_nombre_carpeta)"
   ]
  },
  {
   "cell_type": "markdown",
   "metadata": {},
   "source": [
    "#Valores hasta 15 de mayo 2024\n",
    "AJM.csv AJM.csv\n",
    "108873 1064 109937\n",
    "BJU.csv BJU.csv\n",
    "121613 1065 122678\n",
    "CAM.csv CAM.csv\n",
    "217118 1014 218132\n",
    "CCA.csv CCA.csv\n",
    "133365 1053 134418\n",
    "CUA.csv CUA.csv\n",
    "228566 1042 229608\n",
    "GAM.csv GAM.csv\n",
    "109108 1064 110172\n",
    "MGH.csv MGH.csv\n",
    "116118 1063 117181\n",
    "NEZ.csv NEZ.csv\n",
    "194751 1058 195809\n",
    "PED.csv PED.csv\n",
    "254680 992 255672\n",
    "SAC.csv SAC.csv\n",
    "56018 1066 57084\n",
    "SAG.csv SAG.csv\n",
    "247532 931 248463\n",
    "SFE.csv SFE.csv\n",
    "134231 0 134231\n",
    "TAH.csv TAH.csv\n",
    "228177 1052 229229\n",
    "TLI.csv TLI.csv\n",
    "226817 1058 227875\n",
    "VIF.csv VIF.csv\n",
    "234964 1010 235974"
   ]
  },
  {
   "cell_type": "markdown",
   "metadata": {},
   "source": []
  }
 ],
 "metadata": {
  "language_info": {
   "name": "python"
  }
 },
 "nbformat": 4,
 "nbformat_minor": 2
}
