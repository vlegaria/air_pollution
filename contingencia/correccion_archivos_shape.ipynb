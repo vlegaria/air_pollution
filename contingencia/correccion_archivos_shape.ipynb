{
 "cells": [
  {
   "cell_type": "code",
   "execution_count": 1,
   "metadata": {},
   "outputs": [],
   "source": [
    "import geopandas as gpd"
   ]
  },
  {
   "cell_type": "code",
   "execution_count": 3,
   "metadata": {},
   "outputs": [
    {
     "data": {
      "text/html": [
       "<div>\n",
       "<style scoped>\n",
       "    .dataframe tbody tr th:only-of-type {\n",
       "        vertical-align: middle;\n",
       "    }\n",
       "\n",
       "    .dataframe tbody tr th {\n",
       "        vertical-align: top;\n",
       "    }\n",
       "\n",
       "    .dataframe thead th {\n",
       "        text-align: right;\n",
       "    }\n",
       "</style>\n",
       "<table border=\"1\" class=\"dataframe\">\n",
       "  <thead>\n",
       "    <tr style=\"text-align: right;\">\n",
       "      <th></th>\n",
       "      <th>CVE_ENT</th>\n",
       "      <th>CVE_MUN</th>\n",
       "      <th>CVEGEO</th>\n",
       "      <th>NOM_ENT</th>\n",
       "      <th>AREA</th>\n",
       "      <th>PERIMETER</th>\n",
       "      <th>NOM_MUN</th>\n",
       "      <th>COV_</th>\n",
       "      <th>COV_ID</th>\n",
       "      <th>geometry</th>\n",
       "    </tr>\n",
       "  </thead>\n",
       "  <tbody>\n",
       "    <tr>\n",
       "      <th>0</th>\n",
       "      <td>01</td>\n",
       "      <td>001</td>\n",
       "      <td>01001</td>\n",
       "      <td>Aguascalientes</td>\n",
       "      <td>116635.92455</td>\n",
       "      <td>1166.35925</td>\n",
       "      <td>Aguascalientes</td>\n",
       "      <td>0</td>\n",
       "      <td>1</td>\n",
       "      <td>POLYGON ((-102.09775 22.02325, -102.09857 22.0...</td>\n",
       "    </tr>\n",
       "    <tr>\n",
       "      <th>1</th>\n",
       "      <td>01</td>\n",
       "      <td>002</td>\n",
       "      <td>01002</td>\n",
       "      <td>Aguascalientes</td>\n",
       "      <td>54337.42654</td>\n",
       "      <td>543.37427</td>\n",
       "      <td>Asientos</td>\n",
       "      <td>1</td>\n",
       "      <td>2</td>\n",
       "      <td>POLYGON ((-101.99941 22.21951, -101.99940 22.2...</td>\n",
       "    </tr>\n",
       "    <tr>\n",
       "      <th>2</th>\n",
       "      <td>01</td>\n",
       "      <td>003</td>\n",
       "      <td>01003</td>\n",
       "      <td>Aguascalientes</td>\n",
       "      <td>92335.78320</td>\n",
       "      <td>923.35783</td>\n",
       "      <td>Calvillo</td>\n",
       "      <td>2</td>\n",
       "      <td>3</td>\n",
       "      <td>POLYGON ((-102.57625 21.96778, -102.57626 21.9...</td>\n",
       "    </tr>\n",
       "    <tr>\n",
       "      <th>3</th>\n",
       "      <td>01</td>\n",
       "      <td>004</td>\n",
       "      <td>01004</td>\n",
       "      <td>Aguascalientes</td>\n",
       "      <td>12838.35453</td>\n",
       "      <td>128.38355</td>\n",
       "      <td>Cosío</td>\n",
       "      <td>3</td>\n",
       "      <td>4</td>\n",
       "      <td>POLYGON ((-102.25320 22.37449, -102.25239 22.3...</td>\n",
       "    </tr>\n",
       "    <tr>\n",
       "      <th>4</th>\n",
       "      <td>01</td>\n",
       "      <td>005</td>\n",
       "      <td>01005</td>\n",
       "      <td>Aguascalientes</td>\n",
       "      <td>49989.50926</td>\n",
       "      <td>499.89509</td>\n",
       "      <td>Jesús María</td>\n",
       "      <td>4</td>\n",
       "      <td>5</td>\n",
       "      <td>POLYGON ((-102.31034 22.03716, -102.30653 22.0...</td>\n",
       "    </tr>\n",
       "  </tbody>\n",
       "</table>\n",
       "</div>"
      ],
      "text/plain": [
       "  CVE_ENT CVE_MUN CVEGEO         NOM_ENT          AREA   PERIMETER  \\\n",
       "0      01     001  01001  Aguascalientes  116635.92455  1166.35925   \n",
       "1      01     002  01002  Aguascalientes   54337.42654   543.37427   \n",
       "2      01     003  01003  Aguascalientes   92335.78320   923.35783   \n",
       "3      01     004  01004  Aguascalientes   12838.35453   128.38355   \n",
       "4      01     005  01005  Aguascalientes   49989.50926   499.89509   \n",
       "\n",
       "          NOM_MUN  COV_  COV_ID  \\\n",
       "0  Aguascalientes     0       1   \n",
       "1        Asientos     1       2   \n",
       "2        Calvillo     2       3   \n",
       "3           Cosío     3       4   \n",
       "4     Jesús María     4       5   \n",
       "\n",
       "                                            geometry  \n",
       "0  POLYGON ((-102.09775 22.02325, -102.09857 22.0...  \n",
       "1  POLYGON ((-101.99941 22.21951, -101.99940 22.2...  \n",
       "2  POLYGON ((-102.57625 21.96778, -102.57626 21.9...  \n",
       "3  POLYGON ((-102.25320 22.37449, -102.25239 22.3...  \n",
       "4  POLYGON ((-102.31034 22.03716, -102.30653 22.0...  "
      ]
     },
     "execution_count": 3,
     "metadata": {},
     "output_type": "execute_result"
    }
   ],
   "source": [
    "gdf_mexico = gpd.read_file('C:/Users/valer/Documents/CIC/doctorado/A24/Tesis/QGIS/Division politica Mexico 2018 CONABIO INEGI/muni_2018gw.shp', encoding=\"utf-8\")\n",
    "gdf_mexico.head()"
   ]
  },
  {
   "cell_type": "code",
   "execution_count": 5,
   "metadata": {},
   "outputs": [],
   "source": [
    "gdf_CDMX = gdf_mexico[gdf_mexico.NOM_ENT==\"Ciudad de México\"]\n",
    "gdf_EDOMX = gdf_mexico[gdf_mexico.NOM_ENT==\"México\"]\n",
    "gdf_ZMVM = gdf_combined = gpd.pd.concat([gdf_CDMX, gdf_EDOMX], ignore_index=True)"
   ]
  },
  {
   "cell_type": "code",
   "execution_count": 9,
   "metadata": {},
   "outputs": [],
   "source": [
    "estaciones = {\n",
    "'CE' : {'Alcaldias': ['Benito Juárez', 'Cuauhtémoc', 'Iztacalco', 'Venustiano Carranza']},\n",
    "'NE' : {'Alcaldias': ['Gustavo A. Madero'],\n",
    "      'Municipios':  ['Acolman', 'Atenco', 'Axapusco', 'Chiautla', 'Chicoloapan', 'Chiconcuac', 'Chimalhuacán', 'Coacalco de Berriozábal','Ecatepec de Morelos', 'Hueypoxtla', 'Ixtapaluca', 'Jaltenco', 'La Paz', 'Nextlalpan', 'Nezahualcóyotl', 'Nopaltepec', 'Otumba', 'Papalotla', 'San Martín de las Pirámides', 'Tecámac', 'Temascalapa', 'Teotihuacán', 'Tepetlaoxtoc', 'Texcoco', 'Tezoyuca', 'Tonanitla', 'Zumpango']},\n",
    "'NO' : {'Alcaldias': ['Azcapotzalco', 'Miguel Hidalgo'],\n",
    "      'Municipios':  ['Apaxco', 'Atizapán de Zaragoza', 'Coyotepec', 'Cuautitlán', 'Cuautitlán Izcalli', 'Huehuetoca', 'Isidro Fabela', 'Jilotzingo', 'Melchor Ocampo', 'Naucalpan de Juárez', 'Nicolás Romero', 'Teoloyucan', 'Tepotzotlán', 'Tequixquiac', 'Tlalnepantla de Baz', 'Tultepec', 'Tultitlán', 'Villa del Carbón']},\n",
    "'SE' : {'Alcaldias': ['Iztapalapa', 'Milpa Alta', 'Tláhuac', 'Xochimilco'],\n",
    "      'Municipios':  ['Amecameca', 'Atlautla', 'Ayapango', 'Chalco', 'Cocotitlán', 'Ecatzingo', 'Juchitepec', 'Ozumba', 'Temamatla', 'Tenango del Aire', 'Tepetlixpa', 'Tlalmanalco', 'Valle de Chalco Solidaridad']},\n",
    "'SO' : {'Alcaldias': ['Álvaro Obregón', 'Coyoacán', 'Cuajimalpa de Morelos', 'La Magdalena Contreras', 'Tlalpan'], \n",
    "      'Municipios': ['Huixquilucan', 'Ocoyoacac']}\n",
    "}"
   ]
  },
  {
   "cell_type": "code",
   "execution_count": 8,
   "metadata": {},
   "outputs": [
    {
     "name": "stdout",
     "output_type": "stream",
     "text": [
      "['Benito Juárez', 'Cuauhtémoc', 'Iztacalco', 'Venustiano Carranza']\n",
      "['Gustavo A. Madero']\n",
      "['Acolman', 'Atenco', 'Axapusco', 'Chiautla', 'Chicoloapan', 'Chiconcuac', 'Chimalhuacán', 'Coacalco de Berriozábal', 'Ecatepec de Morelos', 'Hueypoxtla', 'Ixtapaluca', 'Jaltenco', 'La Paz', 'Nextlalpan', 'Nezahualcóyotl', 'Nopaltepec', 'Otumba', 'Papalotla', 'San Martín de las Pirámides', 'Tecámac', 'Temascalapa', 'Teotihuacán', 'Tepetlaoxtoc', 'Texcoco', 'Tezoyuca', 'Tonanitla', 'Zumpango']\n",
      "['Azcapotzalco', 'Miguel Hidalgo']\n",
      "['Apaxco', 'Atizapán de Zaragoza', 'Coyotepec', 'Cuautitlán', 'Cuautitlán Izcalli', 'Huehuetoca', 'Isidro Fabela', 'Jilotzingo', 'Melchor Ocampo', 'Naucalpan de Juárez', 'Nicolás Romero', 'Teoloyucan', 'Tepotzotlán', 'Tequixquiac', 'Tlalnepantla de Baz', 'Tultepec', 'Tultitlán', 'Villa del Carbón']\n",
      "['Iztapalapa', 'Milpa Alta', 'Tláhuac', 'Xochimilco']\n",
      "['Amecameca', 'Atlautla', 'Ayapango', 'Chalco', 'Cocotitlán', 'Ecatzingo', 'Juchitepec', 'Ozumba', 'Temamatla', 'Tenango del Aire', 'Tepetlixpa', 'Tlalmanalco', 'Valle de Chalco Solidaridad']\n",
      "['Álvaro Obregón', 'Coyoacán', 'Cuajimalpa de Morelos', 'La Magdalena Contreras', 'Tlalpan']\n",
      "['Huixquilucan', 'Ocoyoacac']\n"
     ]
    },
    {
     "data": {
      "text/plain": [
       "76"
      ]
     },
     "execution_count": 8,
     "metadata": {},
     "output_type": "execute_result"
    }
   ],
   "source": [
    "contador = 0\n",
    "for nivel1 in estaciones.values():\n",
    "    for nivel2 in nivel1.values():\n",
    "        print(nivel2)\n",
    "        contador += len(nivel2)\n",
    "\n",
    "contador"
   ]
  },
  {
   "cell_type": "code",
   "execution_count": 113,
   "metadata": {},
   "outputs": [
    {
     "name": "stdout",
     "output_type": "stream",
     "text": [
      "Azcapotzalco NO\n",
      "Coyoacán SO\n",
      "Cuajimalpa de Morelos SO\n",
      "Gustavo A. Madero NE\n",
      "Iztacalco CE\n",
      "Iztapalapa SE\n",
      "La Magdalena Contreras SO\n",
      "Milpa Alta SE\n",
      "Álvaro Obregón SO\n",
      "Tláhuac SE\n",
      "Tlalpan SO\n",
      "Xochimilco SE\n",
      "Benito Juárez CE\n",
      "Cuauhtémoc CE\n",
      "Miguel Hidalgo NO\n",
      "Venustiano Carranza CE\n",
      "Acolman NE\n",
      "Amecameca SE\n",
      "Apaxco NO\n",
      "Atenco NE\n",
      "Atizapán de Zaragoza NO\n",
      "Atlautla SE\n",
      "Axapusco NE\n",
      "Ayapango SE\n",
      "Coacalco de Berriozábal NE\n",
      "Cocotitlán SE\n",
      "Coyotepec NO\n",
      "Cuautitlán NO\n",
      "Chalco SE\n",
      "Chiautla NE\n",
      "Chicoloapan NE\n",
      "Chiconcuac NE\n",
      "Chimalhuacán NE\n",
      "Ecatepec de Morelos NE\n",
      "Ecatzingo SE\n",
      "Huehuetoca NO\n",
      "Hueypoxtla NE\n",
      "Huixquilucan SO\n",
      "Isidro Fabela NO\n",
      "Ixtapaluca NE\n",
      "Jaltenco NE\n",
      "Jilotzingo NO\n",
      "Juchitepec SE\n",
      "Melchor Ocampo NO\n",
      "Naucalpan de Juárez NO\n",
      "Nezahualcóyotl NE\n",
      "Nextlalpan NE\n",
      "Nicolás Romero NO\n",
      "Nopaltepec NE\n",
      "Ocoyoacac SO\n",
      "Otumba NE\n",
      "Ozumba SE\n",
      "Papalotla NE\n",
      "La Paz NE\n",
      "San Martín de las Pirámides NE\n",
      "Tecámac NE\n",
      "Temamatla SE\n",
      "Temascalapa NE\n",
      "Tenango del Aire SE\n",
      "Teoloyucan NO\n",
      "Teotihuacán NE\n",
      "Tepetlaoxtoc NE\n",
      "Tepetlixpa SE\n",
      "Tepotzotlán NO\n",
      "Tequixquiac NO\n",
      "Texcoco NE\n",
      "Tezoyuca NE\n",
      "Tlalmanalco SE\n",
      "Tlalnepantla de Baz NO\n",
      "Tultepec NO\n",
      "Tultitlán NO\n",
      "Zumpango NE\n",
      "Cuautitlán Izcalli NO\n",
      "Valle de Chalco Solidaridad SE\n",
      "Tonanitla NE\n",
      "Villa del Carbón NO\n"
     ]
    }
   ],
   "source": [
    "zona_activ = []\n",
    "indices = []\n",
    "lugares = []\n",
    "for indice,municipio in enumerate(gdf_ZMVM.NOM_MUN):\n",
    "    bandera = 0\n",
    "    for zona in estaciones:\n",
    "        for fraccion in estaciones[zona].keys():\n",
    "            for muni in estaciones[zona][fraccion]:\n",
    "                if municipio == muni:\n",
    "                    print(muni, zona)\n",
    "                    bandera = 1\n",
    "                    zona_activ.append(zona)\n",
    "                    lugares.append(municipio)\n",
    "                    indices.append(indice)\n",
    "    if bandera == 0:\n",
    "        zona_activ.append('')\n",
    "\n",
    "# Agregar una nueva columna con datos\n",
    "gdf_ZMVM['zona_activ'] = zona_activ\n",
    "\n",
    "\n",
    "# Guardar el GeoDataFrame modificado en un nuevo shapefile\n",
    "gdf_ZMVM.to_file('C:/Users/valer/Documents/CIC/doctorado/A24/Tesis/QGIS/gdf_ZMVM_zona_activ.shp')"
   ]
  },
  {
   "cell_type": "code",
   "execution_count": 114,
   "metadata": {},
   "outputs": [
    {
     "name": "stdout",
     "output_type": "stream",
     "text": [
      "141\n",
      "76\n",
      "76\n"
     ]
    }
   ],
   "source": [
    "print(len(gdf_ZMVM))\n",
    "print(len(indices))\n",
    "print(len(lugares))"
   ]
  },
  {
   "cell_type": "code",
   "execution_count": 119,
   "metadata": {},
   "outputs": [],
   "source": [
    "gdf_soloEDOMEXCDMX = gdf_ZMVM.iloc[indices]\n",
    "gdf_soloEDOMEXCDMX.to_file('C:/Users/valer/Documents/CIC/doctorado/A24/Tesis/QGIS/gdf_soloEDOMEXCDMX_zona_activ.shp')"
   ]
  },
  {
   "cell_type": "code",
   "execution_count": 117,
   "metadata": {},
   "outputs": [],
   "source": [
    "gdf_CDMX.to_file('C:/Users/valer/Documents/CIC/doctorado/A24/Tesis/QGIS/gdf_CDMX_zona_activ.shp')"
   ]
  }
 ],
 "metadata": {
  "kernelspec": {
   "display_name": "base",
   "language": "python",
   "name": "python3"
  },
  "language_info": {
   "codemirror_mode": {
    "name": "ipython",
    "version": 3
   },
   "file_extension": ".py",
   "mimetype": "text/x-python",
   "name": "python",
   "nbconvert_exporter": "python",
   "pygments_lexer": "ipython3",
   "version": "3.11.5"
  }
 },
 "nbformat": 4,
 "nbformat_minor": 2
}
